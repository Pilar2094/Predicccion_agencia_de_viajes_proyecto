{
    "cells": [
        {
            "cell_type": "markdown",
            "metadata": {},
            "source": [
                "# Explore here"
            ]
        },
        {
            "cell_type": "markdown",
            "metadata": {},
            "source": [
                "## Merge 1"
            ]
        },
        {
            "cell_type": "code",
            "execution_count": 1,
            "metadata": {},
            "outputs": [
                {
                    "name": "stderr",
                    "output_type": "stream",
                    "text": [
                        "/var/folders/jl/x5zpkzkd5m313zdg9lyh1f4h0000gn/T/ipykernel_31222/1876044743.py:48: DeprecationWarning: DataFrameGroupBy.apply operated on the grouping columns. This behavior is deprecated, and in a future version of pandas the grouping columns will be excluded from the operation. Either pass `include_groups=False` to exclude the groupings or explicitly select the grouping columns after groupby to silence this warning.\n",
                        "  sample1 = m1.groupby(\"ciudad\", group_keys=False).apply(top_n)\n"
                    ]
                },
                {
                    "name": "stdout",
                    "output_type": "stream",
                    "text": [
                        "✅ Paso 1 completo: 240000 filas guardadas en:\n",
                        " • /Users/joanafernandes/Data Science Bootcamp/Predicccion_agencia_de_viajes_proyecto/data/processed/merged_dataset_vuelos_240k.csv\n",
                        " • /Users/joanafernandes/Data Science Bootcamp/Predicccion_agencia_de_viajes_proyecto/data/processed/merged_dataset_vuelos_240k.csv.gz\n"
                    ]
                }
            ],
            "source": [
                "import pandas as pd\n",
                "\n",
                "# Rutas\n",
                "path_df1    = \"/Users/joanafernandes/Data Science Bootcamp/Predicccion_agencia_de_viajes_proyecto/data/processed/dataset_completo.csv\"\n",
                "path_vuelos = \"/Users/joanafernandes/Data Science Bootcamp/Predicccion_agencia_de_viajes_proyecto/data/processed/merged_flight_dataset.csv\"\n",
                "\n",
                "# Parámetros\n",
                "fecha_col    = \"fecha\"\n",
                "fecha_umbral = pd.Timestamp(\"2022-01-01\")\n",
                "N            = 240_000\n",
                "\n",
                "# 1) Cargo y filtro por fecha\n",
                "df = pd.read_csv(path_df1, parse_dates=[fecha_col])\n",
                "df = df[df[fecha_col] >= fecha_umbral].copy()\n",
                "df[\"ciudad\"] = df[\"ciudad\"].str.lower().str.strip()\n",
                "\n",
                "# 2) Merge con vuelos y renombrar precio\n",
                "df_v = pd.read_csv(path_vuelos)\n",
                "df_v[\"city_only\"] = (\n",
                "    df_v[\"destination_city\"].astype(str)\n",
                "         .str.rsplit(pat=\" \", n=1).str[0]\n",
                "         .str.lower().str.strip()\n",
                ")\n",
                "if \"price\" in df_v.columns:\n",
                "    df_v = df_v.rename(columns={\"price\": \"flight_price\"})\n",
                "else:\n",
                "    price_col = [c for c in df_v.columns if \"price\" in c.lower()][0]\n",
                "    df_v = df_v.rename(columns={price_col: \"flight_price\"})\n",
                "\n",
                "m1 = pd.merge(\n",
                "    df,\n",
                "    df_v.drop(columns=[\"destination_city\"]),\n",
                "    how=\"left\",\n",
                "    left_on=\"ciudad\",\n",
                "    right_on=\"city_only\"\n",
                ").drop(columns=[\"city_only\"])\n",
                "\n",
                "# 3) Ordenar de más reciente a más antiguo\n",
                "m1 = m1.sort_values(fecha_col, ascending=False)\n",
                "\n",
                "# 4) Muestreo estratificado\n",
                "counts     = m1[\"ciudad\"].value_counts()\n",
                "n_per_city = (counts / counts.sum() * N).round().astype(int).clip(lower=1)\n",
                "\n",
                "def top_n(g):\n",
                "    return g.head(n_per_city[g.name])\n",
                "\n",
                "sample1 = m1.groupby(\"ciudad\", group_keys=False).apply(top_n)\n",
                "\n",
                "# Ajuste final\n",
                "if len(sample1) > N:\n",
                "    sample1 = sample1.head(N)\n",
                "elif len(sample1) < N:\n",
                "    extra    = m1.drop(sample1.index).head(N - len(sample1))\n",
                "    sample1  = pd.concat([sample1, extra], ignore_index=True)\n",
                "\n",
                "# 5) Guardar intermedio\n",
                "out_inter   = \"/Users/joanafernandes/Data Science Bootcamp/Predicccion_agencia_de_viajes_proyecto/data/processed/merged_dataset_vuelos_240k.csv\"\n",
                "out_inter_gz= out_inter + \".gz\"\n",
                "sample1.to_csv(out_inter, index=False)\n",
                "sample1.to_csv(out_inter_gz, index=False, compression=\"gzip\")\n",
                "\n",
                "print(f\"✅ Paso 1 completo: {len(sample1)} filas guardadas en:\\n • {out_inter}\\n • {out_inter_gz}\")"
            ]
        },
        {
            "cell_type": "markdown",
            "metadata": {},
            "source": [
                "## Merge 2"
            ]
        },
        {
            "cell_type": "code",
            "execution_count": 1,
            "metadata": {},
            "outputs": [
                {
                    "name": "stdout",
                    "output_type": "stream",
                    "text": [
                        "✅ Merge con hoteles completado: 240000 filas guardadas en:\n",
                        " • /Users/joanafernandes/Data Science Bootcamp/Predicccion_agencia_de_viajes_proyecto/data/processed/total_data_240k.csv\n",
                        " • /Users/joanafernandes/Data Science Bootcamp/Predicccion_agencia_de_viajes_proyecto/data/processed/total_data_240k.csv.gz\n"
                    ]
                }
            ],
            "source": [
                "import pandas as pd\n",
                "\n",
                "# Rutas completas\n",
                "path_inter   = \"/Users/joanafernandes/Data Science Bootcamp/Predicccion_agencia_de_viajes_proyecto/data/processed/merged_dataset_vuelos_240k.csv\"\n",
                "path_hoteles = \"/Users/joanafernandes/Data Science Bootcamp/Predicccion_agencia_de_viajes_proyecto/data/processed/hotels_with_distance_dataset.csv\"\n",
                "out_final    = \"/Users/joanafernandes/Data Science Bootcamp/Predicccion_agencia_de_viajes_proyecto/data/processed/total_data_240k.csv\"\n",
                "out_final_gz = out_final + \".gz\"\n",
                "\n",
                "# 1) Cargo la muestra intermedia (ya tiene vuelos)\n",
                "df_int = pd.read_csv(path_inter, parse_dates=[\"fecha\"])\n",
                "df_int[\"ciudad\"] = df_int[\"ciudad\"].str.lower().str.strip()\n",
                "\n",
                "# 2) Cargo hoteles con separador ';'\n",
                "df_h = pd.read_csv(path_hoteles, sep=';')\n",
                "\n",
                "# 3) Extraigo solo el nombre de la ciudad quitando el código de aeropuerto\n",
                "df_h[\"city_only\"] = (\n",
                "    df_h[\"destination_city\"]\n",
                "      .astype(str)\n",
                "      .str.rsplit(pat=\" \", n=1).str[0]\n",
                "      .str.lower()\n",
                "      .str.strip()\n",
                ")\n",
                "\n",
                "# 4) Colapso a un solo hotel por ciudad: el más cercano al centro\n",
                "df_h_nearest = (\n",
                "    df_h.sort_values(\"distance_to_city_center_km\", ascending=True)\n",
                "        .drop_duplicates(subset=\"city_only\", keep=\"first\")\n",
                "        .drop(columns=[\"destination_city\"])  # ya no necesitamos la original\n",
                ")\n",
                "\n",
                "# 5) Merge final: left join para añadir datos de hotel a cada viaje\n",
                "final = pd.merge(\n",
                "    df_int,\n",
                "    df_h_nearest,\n",
                "    how=\"left\",\n",
                "    left_on=\"ciudad\",\n",
                "    right_on=\"city_only\"\n",
                ").drop(columns=[\"city_only\"])\n",
                "\n",
                "# 6) Guardar CSV final y GZIP\n",
                "final.to_csv(out_final, index=False)\n",
                "final.to_csv(out_final_gz, index=False, compression=\"gzip\")\n",
                "\n",
                "print(f\"✅ Merge con hoteles completado: {len(final)} filas guardadas en:\\n • {out_final}\\n • {out_final_gz}\")"
            ]
        }
    ],
    "metadata": {
        "kernelspec": {
            "display_name": "Python 3",
            "language": "python",
            "name": "python3"
        },
        "language_info": {
            "codemirror_mode": {
                "name": "ipython",
                "version": 3
            },
            "file_extension": ".py",
            "mimetype": "text/x-python",
            "name": "python",
            "nbconvert_exporter": "python",
            "pygments_lexer": "ipython3",
            "version": "3.13.1"
        },
        "orig_nbformat": 4
    },
    "nbformat": 4,
    "nbformat_minor": 2
}
